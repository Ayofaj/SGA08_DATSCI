{
 "metadata": {
  "language_info": {
   "codemirror_mode": {
    "name": "ipython",
    "version": 3
   },
   "file_extension": ".py",
   "mimetype": "text/x-python",
   "name": "python",
   "nbconvert_exporter": "python",
   "pygments_lexer": "ipython3",
   "version": 3
  },
  "orig_nbformat": 2,
  "kernelspec": {
   "name": "python_defaultSpec_1598441490644",
   "display_name": "Python 3.7.6 64-bit ('base': conda)"
  }
 },
 "nbformat": 4,
 "nbformat_minor": 2,
 "cells": [
  {
   "cell_type": "code",
   "execution_count": 241,
   "metadata": {},
   "outputs": [],
   "source": [
    "import pandas as pd \n",
    "import numpy as np\n",
    "from sklearn.linear_model import LinearRegression  \n",
    "red_wine= pd.read_csv('winequality-red.csv')"
   ]
  },
  {
   "cell_type": "code",
   "execution_count": 242,
   "metadata": {},
   "outputs": [
    {
     "output_type": "execute_result",
     "data": {
      "text/plain": "   fixed acidity  volatile acidity  citric acid  residual sugar  chlorides  \\\n0            7.4              0.70         0.00             1.9      0.076   \n1            7.8              0.88         0.00             2.6      0.098   \n2            7.8              0.76         0.04             2.3      0.092   \n3           11.2              0.28         0.56             1.9      0.075   \n4            7.4              0.70         0.00             1.9      0.076   \n\n   free sulfur dioxide  total sulfur dioxide  density    pH  sulphates  \\\n0                 11.0                  34.0   0.9978  3.51       0.56   \n1                 25.0                  67.0   0.9968  3.20       0.68   \n2                 15.0                  54.0   0.9970  3.26       0.65   \n3                 17.0                  60.0   0.9980  3.16       0.58   \n4                 11.0                  34.0   0.9978  3.51       0.56   \n\n   alcohol  quality  \n0      9.4        5  \n1      9.8        5  \n2      9.8        5  \n3      9.8        6  \n4      9.4        5  ",
      "text/html": "<div>\n<style scoped>\n    .dataframe tbody tr th:only-of-type {\n        vertical-align: middle;\n    }\n\n    .dataframe tbody tr th {\n        vertical-align: top;\n    }\n\n    .dataframe thead th {\n        text-align: right;\n    }\n</style>\n<table border=\"1\" class=\"dataframe\">\n  <thead>\n    <tr style=\"text-align: right;\">\n      <th></th>\n      <th>fixed acidity</th>\n      <th>volatile acidity</th>\n      <th>citric acid</th>\n      <th>residual sugar</th>\n      <th>chlorides</th>\n      <th>free sulfur dioxide</th>\n      <th>total sulfur dioxide</th>\n      <th>density</th>\n      <th>pH</th>\n      <th>sulphates</th>\n      <th>alcohol</th>\n      <th>quality</th>\n    </tr>\n  </thead>\n  <tbody>\n    <tr>\n      <th>0</th>\n      <td>7.4</td>\n      <td>0.70</td>\n      <td>0.00</td>\n      <td>1.9</td>\n      <td>0.076</td>\n      <td>11.0</td>\n      <td>34.0</td>\n      <td>0.9978</td>\n      <td>3.51</td>\n      <td>0.56</td>\n      <td>9.4</td>\n      <td>5</td>\n    </tr>\n    <tr>\n      <th>1</th>\n      <td>7.8</td>\n      <td>0.88</td>\n      <td>0.00</td>\n      <td>2.6</td>\n      <td>0.098</td>\n      <td>25.0</td>\n      <td>67.0</td>\n      <td>0.9968</td>\n      <td>3.20</td>\n      <td>0.68</td>\n      <td>9.8</td>\n      <td>5</td>\n    </tr>\n    <tr>\n      <th>2</th>\n      <td>7.8</td>\n      <td>0.76</td>\n      <td>0.04</td>\n      <td>2.3</td>\n      <td>0.092</td>\n      <td>15.0</td>\n      <td>54.0</td>\n      <td>0.9970</td>\n      <td>3.26</td>\n      <td>0.65</td>\n      <td>9.8</td>\n      <td>5</td>\n    </tr>\n    <tr>\n      <th>3</th>\n      <td>11.2</td>\n      <td>0.28</td>\n      <td>0.56</td>\n      <td>1.9</td>\n      <td>0.075</td>\n      <td>17.0</td>\n      <td>60.0</td>\n      <td>0.9980</td>\n      <td>3.16</td>\n      <td>0.58</td>\n      <td>9.8</td>\n      <td>6</td>\n    </tr>\n    <tr>\n      <th>4</th>\n      <td>7.4</td>\n      <td>0.70</td>\n      <td>0.00</td>\n      <td>1.9</td>\n      <td>0.076</td>\n      <td>11.0</td>\n      <td>34.0</td>\n      <td>0.9978</td>\n      <td>3.51</td>\n      <td>0.56</td>\n      <td>9.4</td>\n      <td>5</td>\n    </tr>\n  </tbody>\n</table>\n</div>"
     },
     "metadata": {},
     "execution_count": 242
    }
   ],
   "source": [
    "red_wine.head()"
   ]
  },
  {
   "cell_type": "code",
   "execution_count": 243,
   "metadata": {},
   "outputs": [
    {
     "output_type": "execute_result",
     "data": {
      "text/plain": "fixed acidity           1599\nvolatile acidity        1599\ncitric acid             1599\nresidual sugar          1599\nchlorides               1599\nfree sulfur dioxide     1599\ntotal sulfur dioxide    1599\ndensity                 1599\npH                      1599\nsulphates               1599\nalcohol                 1599\nquality                 1599\ndtype: int64"
     },
     "metadata": {},
     "execution_count": 243
    }
   ],
   "source": [
    "red_wine.count()"
   ]
  },
  {
   "cell_type": "code",
   "execution_count": 244,
   "metadata": {},
   "outputs": [
    {
     "output_type": "execute_result",
     "data": {
      "text/plain": "                      fixed acidity  volatile acidity  citric acid  \\\nfixed acidity              1.000000         -0.256131     0.671703   \nvolatile acidity          -0.256131          1.000000    -0.552496   \ncitric acid                0.671703         -0.552496     1.000000   \nresidual sugar             0.114777          0.001918     0.143577   \nchlorides                  0.093705          0.061298     0.203823   \nfree sulfur dioxide       -0.153794         -0.010504    -0.060978   \ntotal sulfur dioxide      -0.113181          0.076470     0.035533   \ndensity                    0.668047          0.022026     0.364947   \npH                        -0.682978          0.234937    -0.541904   \nsulphates                  0.183006         -0.260987     0.312770   \nalcohol                   -0.061668         -0.202288     0.109903   \nquality                    0.124052         -0.390558     0.226373   \n\n                      residual sugar  chlorides  free sulfur dioxide  \\\nfixed acidity               0.114777   0.093705            -0.153794   \nvolatile acidity            0.001918   0.061298            -0.010504   \ncitric acid                 0.143577   0.203823            -0.060978   \nresidual sugar              1.000000   0.055610             0.187049   \nchlorides                   0.055610   1.000000             0.005562   \nfree sulfur dioxide         0.187049   0.005562             1.000000   \ntotal sulfur dioxide        0.203028   0.047400             0.667666   \ndensity                     0.355283   0.200632            -0.021946   \npH                         -0.085652  -0.265026             0.070377   \nsulphates                   0.005527   0.371260             0.051658   \nalcohol                     0.042075  -0.221141            -0.069408   \nquality                     0.013732  -0.128907            -0.050656   \n\n                      total sulfur dioxide   density        pH  sulphates  \\\nfixed acidity                    -0.113181  0.668047 -0.682978   0.183006   \nvolatile acidity                  0.076470  0.022026  0.234937  -0.260987   \ncitric acid                       0.035533  0.364947 -0.541904   0.312770   \nresidual sugar                    0.203028  0.355283 -0.085652   0.005527   \nchlorides                         0.047400  0.200632 -0.265026   0.371260   \nfree sulfur dioxide               0.667666 -0.021946  0.070377   0.051658   \ntotal sulfur dioxide              1.000000  0.071269 -0.066495   0.042947   \ndensity                           0.071269  1.000000 -0.341699   0.148506   \npH                               -0.066495 -0.341699  1.000000  -0.196648   \nsulphates                         0.042947  0.148506 -0.196648   1.000000   \nalcohol                          -0.205654 -0.496180  0.205633   0.093595   \nquality                          -0.185100 -0.174919 -0.057731   0.251397   \n\n                       alcohol   quality  \nfixed acidity        -0.061668  0.124052  \nvolatile acidity     -0.202288 -0.390558  \ncitric acid           0.109903  0.226373  \nresidual sugar        0.042075  0.013732  \nchlorides            -0.221141 -0.128907  \nfree sulfur dioxide  -0.069408 -0.050656  \ntotal sulfur dioxide -0.205654 -0.185100  \ndensity              -0.496180 -0.174919  \npH                    0.205633 -0.057731  \nsulphates             0.093595  0.251397  \nalcohol               1.000000  0.476166  \nquality               0.476166  1.000000  ",
      "text/html": "<div>\n<style scoped>\n    .dataframe tbody tr th:only-of-type {\n        vertical-align: middle;\n    }\n\n    .dataframe tbody tr th {\n        vertical-align: top;\n    }\n\n    .dataframe thead th {\n        text-align: right;\n    }\n</style>\n<table border=\"1\" class=\"dataframe\">\n  <thead>\n    <tr style=\"text-align: right;\">\n      <th></th>\n      <th>fixed acidity</th>\n      <th>volatile acidity</th>\n      <th>citric acid</th>\n      <th>residual sugar</th>\n      <th>chlorides</th>\n      <th>free sulfur dioxide</th>\n      <th>total sulfur dioxide</th>\n      <th>density</th>\n      <th>pH</th>\n      <th>sulphates</th>\n      <th>alcohol</th>\n      <th>quality</th>\n    </tr>\n  </thead>\n  <tbody>\n    <tr>\n      <th>fixed acidity</th>\n      <td>1.000000</td>\n      <td>-0.256131</td>\n      <td>0.671703</td>\n      <td>0.114777</td>\n      <td>0.093705</td>\n      <td>-0.153794</td>\n      <td>-0.113181</td>\n      <td>0.668047</td>\n      <td>-0.682978</td>\n      <td>0.183006</td>\n      <td>-0.061668</td>\n      <td>0.124052</td>\n    </tr>\n    <tr>\n      <th>volatile acidity</th>\n      <td>-0.256131</td>\n      <td>1.000000</td>\n      <td>-0.552496</td>\n      <td>0.001918</td>\n      <td>0.061298</td>\n      <td>-0.010504</td>\n      <td>0.076470</td>\n      <td>0.022026</td>\n      <td>0.234937</td>\n      <td>-0.260987</td>\n      <td>-0.202288</td>\n      <td>-0.390558</td>\n    </tr>\n    <tr>\n      <th>citric acid</th>\n      <td>0.671703</td>\n      <td>-0.552496</td>\n      <td>1.000000</td>\n      <td>0.143577</td>\n      <td>0.203823</td>\n      <td>-0.060978</td>\n      <td>0.035533</td>\n      <td>0.364947</td>\n      <td>-0.541904</td>\n      <td>0.312770</td>\n      <td>0.109903</td>\n      <td>0.226373</td>\n    </tr>\n    <tr>\n      <th>residual sugar</th>\n      <td>0.114777</td>\n      <td>0.001918</td>\n      <td>0.143577</td>\n      <td>1.000000</td>\n      <td>0.055610</td>\n      <td>0.187049</td>\n      <td>0.203028</td>\n      <td>0.355283</td>\n      <td>-0.085652</td>\n      <td>0.005527</td>\n      <td>0.042075</td>\n      <td>0.013732</td>\n    </tr>\n    <tr>\n      <th>chlorides</th>\n      <td>0.093705</td>\n      <td>0.061298</td>\n      <td>0.203823</td>\n      <td>0.055610</td>\n      <td>1.000000</td>\n      <td>0.005562</td>\n      <td>0.047400</td>\n      <td>0.200632</td>\n      <td>-0.265026</td>\n      <td>0.371260</td>\n      <td>-0.221141</td>\n      <td>-0.128907</td>\n    </tr>\n    <tr>\n      <th>free sulfur dioxide</th>\n      <td>-0.153794</td>\n      <td>-0.010504</td>\n      <td>-0.060978</td>\n      <td>0.187049</td>\n      <td>0.005562</td>\n      <td>1.000000</td>\n      <td>0.667666</td>\n      <td>-0.021946</td>\n      <td>0.070377</td>\n      <td>0.051658</td>\n      <td>-0.069408</td>\n      <td>-0.050656</td>\n    </tr>\n    <tr>\n      <th>total sulfur dioxide</th>\n      <td>-0.113181</td>\n      <td>0.076470</td>\n      <td>0.035533</td>\n      <td>0.203028</td>\n      <td>0.047400</td>\n      <td>0.667666</td>\n      <td>1.000000</td>\n      <td>0.071269</td>\n      <td>-0.066495</td>\n      <td>0.042947</td>\n      <td>-0.205654</td>\n      <td>-0.185100</td>\n    </tr>\n    <tr>\n      <th>density</th>\n      <td>0.668047</td>\n      <td>0.022026</td>\n      <td>0.364947</td>\n      <td>0.355283</td>\n      <td>0.200632</td>\n      <td>-0.021946</td>\n      <td>0.071269</td>\n      <td>1.000000</td>\n      <td>-0.341699</td>\n      <td>0.148506</td>\n      <td>-0.496180</td>\n      <td>-0.174919</td>\n    </tr>\n    <tr>\n      <th>pH</th>\n      <td>-0.682978</td>\n      <td>0.234937</td>\n      <td>-0.541904</td>\n      <td>-0.085652</td>\n      <td>-0.265026</td>\n      <td>0.070377</td>\n      <td>-0.066495</td>\n      <td>-0.341699</td>\n      <td>1.000000</td>\n      <td>-0.196648</td>\n      <td>0.205633</td>\n      <td>-0.057731</td>\n    </tr>\n    <tr>\n      <th>sulphates</th>\n      <td>0.183006</td>\n      <td>-0.260987</td>\n      <td>0.312770</td>\n      <td>0.005527</td>\n      <td>0.371260</td>\n      <td>0.051658</td>\n      <td>0.042947</td>\n      <td>0.148506</td>\n      <td>-0.196648</td>\n      <td>1.000000</td>\n      <td>0.093595</td>\n      <td>0.251397</td>\n    </tr>\n    <tr>\n      <th>alcohol</th>\n      <td>-0.061668</td>\n      <td>-0.202288</td>\n      <td>0.109903</td>\n      <td>0.042075</td>\n      <td>-0.221141</td>\n      <td>-0.069408</td>\n      <td>-0.205654</td>\n      <td>-0.496180</td>\n      <td>0.205633</td>\n      <td>0.093595</td>\n      <td>1.000000</td>\n      <td>0.476166</td>\n    </tr>\n    <tr>\n      <th>quality</th>\n      <td>0.124052</td>\n      <td>-0.390558</td>\n      <td>0.226373</td>\n      <td>0.013732</td>\n      <td>-0.128907</td>\n      <td>-0.050656</td>\n      <td>-0.185100</td>\n      <td>-0.174919</td>\n      <td>-0.057731</td>\n      <td>0.251397</td>\n      <td>0.476166</td>\n      <td>1.000000</td>\n    </tr>\n  </tbody>\n</table>\n</div>"
     },
     "metadata": {},
     "execution_count": 244
    }
   ],
   "source": [
    "red_wine.corr(method=\"pearson\")"
   ]
  },
  {
   "cell_type": "code",
   "execution_count": 245,
   "metadata": {},
   "outputs": [],
   "source": [
    "red_wine.drop([\"fixed acidity\", \"free sulfur dioxide\"], axis=1, inplace=True)"
   ]
  },
  {
   "cell_type": "code",
   "execution_count": 246,
   "metadata": {},
   "outputs": [],
   "source": [
    "y = red_wine['quality']\n",
    "x = red_wine.drop('quality',axis=1) "
   ]
  },
  {
   "cell_type": "code",
   "execution_count": 247,
   "metadata": {},
   "outputs": [],
   "source": [
    "x = x.to_numpy()\n",
    "y = y.to_numpy()"
   ]
  },
  {
   "cell_type": "code",
   "execution_count": 248,
   "metadata": {},
   "outputs": [],
   "source": [
    "reg = LinearRegression()"
   ]
  },
  {
   "cell_type": "code",
   "execution_count": 249,
   "metadata": {},
   "outputs": [
    {
     "output_type": "execute_result",
     "data": {
      "text/plain": "LinearRegression(copy_X=True, fit_intercept=True, n_jobs=None, normalize=False)"
     },
     "metadata": {},
     "execution_count": 249
    }
   ],
   "source": [
    "reg.fit(x,y)"
   ]
  },
  {
   "cell_type": "code",
   "execution_count": 250,
   "metadata": {},
   "outputs": [],
   "source": [
    "w = reg.coef_"
   ]
  },
  {
   "cell_type": "code",
   "execution_count": 251,
   "metadata": {},
   "outputs": [],
   "source": [
    "b = reg.intercept_"
   ]
  },
  {
   "cell_type": "code",
   "execution_count": 252,
   "metadata": {},
   "outputs": [],
   "source": [
    "y_ = reg.predict(x)"
   ]
  },
  {
   "cell_type": "code",
   "execution_count": 253,
   "metadata": {},
   "outputs": [
    {
     "output_type": "execute_result",
     "data": {
      "text/plain": "array([5.04193428, 5.11556992, 5.22345982, ..., 5.91213036, 5.40333711,\n       6.03976478])"
     },
     "metadata": {},
     "execution_count": 253
    }
   ],
   "source": [
    "y_"
   ]
  },
  {
   "cell_type": "code",
   "execution_count": 254,
   "metadata": {},
   "outputs": [
    {
     "output_type": "execute_result",
     "data": {
      "text/plain": "array([5, 5, 5, ..., 6, 5, 6], dtype=int64)"
     },
     "metadata": {},
     "execution_count": 254
    }
   ],
   "source": [
    "y"
   ]
  },
  {
   "cell_type": "code",
   "execution_count": 255,
   "metadata": {},
   "outputs": [
    {
     "output_type": "execute_result",
     "data": {
      "text/plain": "0.358353965193008"
     },
     "metadata": {},
     "execution_count": 255
    }
   ],
   "source": [
    "reg.score(x,y)"
   ]
  },
  {
   "cell_type": "code",
   "execution_count": 256,
   "metadata": {},
   "outputs": [
    {
     "output_type": "execute_result",
     "data": {
      "text/plain": "(9,)"
     },
     "metadata": {},
     "execution_count": 256
    }
   ],
   "source": [
    "x[9].shape"
   ]
  },
  {
   "cell_type": "code",
   "execution_count": 257,
   "metadata": {},
   "outputs": [
    {
     "output_type": "execute_result",
     "data": {
      "text/plain": "(1599, 9)"
     },
     "metadata": {},
     "execution_count": 257
    }
   ],
   "source": [
    "x.shape"
   ]
  },
  {
   "cell_type": "code",
   "execution_count": 258,
   "metadata": {},
   "outputs": [
    {
     "output_type": "execute_result",
     "data": {
      "text/plain": "(9, 1)"
     },
     "metadata": {},
     "execution_count": 258
    }
   ],
   "source": [
    "x[9].reshape(-1,1).shape"
   ]
  },
  {
   "cell_type": "code",
   "execution_count": 259,
   "metadata": {},
   "outputs": [
    {
     "output_type": "execute_result",
     "data": {
      "text/plain": "array([5.72296782])"
     },
     "metadata": {},
     "execution_count": 259
    }
   ],
   "source": [
    "reg.predict(x[9].reshape(1,-1))"
   ]
  },
  {
   "cell_type": "code",
   "execution_count": 260,
   "metadata": {},
   "outputs": [
    {
     "output_type": "execute_result",
     "data": {
      "text/plain": "5"
     },
     "metadata": {},
     "execution_count": 260
    }
   ],
   "source": [
    "y[9]"
   ]
  },
  {
   "cell_type": "code",
   "execution_count": 261,
   "metadata": {
    "tags": []
   },
   "outputs": [
    {
     "output_type": "execute_result",
     "data": {
      "text/plain": "      volatile acidity  citric acid  residual sugar  chlorides  \\\n1594             0.600         0.08             2.0      0.090   \n1595             0.550         0.10             2.2      0.062   \n1596             0.510         0.13             2.3      0.076   \n1597             0.645         0.12             2.0      0.075   \n1598             0.310         0.47             3.6      0.067   \n\n      total sulfur dioxide  density    pH  sulphates  alcohol  quality  \n1594                  44.0  0.99490  3.45       0.58     10.5        5  \n1595                  51.0  0.99512  3.52       0.76     11.2        6  \n1596                  40.0  0.99574  3.42       0.75     11.0        6  \n1597                  44.0  0.99547  3.57       0.71     10.2        5  \n1598                  42.0  0.99549  3.39       0.66     11.0        6  ",
      "text/html": "<div>\n<style scoped>\n    .dataframe tbody tr th:only-of-type {\n        vertical-align: middle;\n    }\n\n    .dataframe tbody tr th {\n        vertical-align: top;\n    }\n\n    .dataframe thead th {\n        text-align: right;\n    }\n</style>\n<table border=\"1\" class=\"dataframe\">\n  <thead>\n    <tr style=\"text-align: right;\">\n      <th></th>\n      <th>volatile acidity</th>\n      <th>citric acid</th>\n      <th>residual sugar</th>\n      <th>chlorides</th>\n      <th>total sulfur dioxide</th>\n      <th>density</th>\n      <th>pH</th>\n      <th>sulphates</th>\n      <th>alcohol</th>\n      <th>quality</th>\n    </tr>\n  </thead>\n  <tbody>\n    <tr>\n      <th>1594</th>\n      <td>0.600</td>\n      <td>0.08</td>\n      <td>2.0</td>\n      <td>0.090</td>\n      <td>44.0</td>\n      <td>0.99490</td>\n      <td>3.45</td>\n      <td>0.58</td>\n      <td>10.5</td>\n      <td>5</td>\n    </tr>\n    <tr>\n      <th>1595</th>\n      <td>0.550</td>\n      <td>0.10</td>\n      <td>2.2</td>\n      <td>0.062</td>\n      <td>51.0</td>\n      <td>0.99512</td>\n      <td>3.52</td>\n      <td>0.76</td>\n      <td>11.2</td>\n      <td>6</td>\n    </tr>\n    <tr>\n      <th>1596</th>\n      <td>0.510</td>\n      <td>0.13</td>\n      <td>2.3</td>\n      <td>0.076</td>\n      <td>40.0</td>\n      <td>0.99574</td>\n      <td>3.42</td>\n      <td>0.75</td>\n      <td>11.0</td>\n      <td>6</td>\n    </tr>\n    <tr>\n      <th>1597</th>\n      <td>0.645</td>\n      <td>0.12</td>\n      <td>2.0</td>\n      <td>0.075</td>\n      <td>44.0</td>\n      <td>0.99547</td>\n      <td>3.57</td>\n      <td>0.71</td>\n      <td>10.2</td>\n      <td>5</td>\n    </tr>\n    <tr>\n      <th>1598</th>\n      <td>0.310</td>\n      <td>0.47</td>\n      <td>3.6</td>\n      <td>0.067</td>\n      <td>42.0</td>\n      <td>0.99549</td>\n      <td>3.39</td>\n      <td>0.66</td>\n      <td>11.0</td>\n      <td>6</td>\n    </tr>\n  </tbody>\n</table>\n</div>"
     },
     "metadata": {},
     "execution_count": 261
    }
   ],
   "source": [
    "red_wine.tail()"
   ]
  },
  {
   "cell_type": "code",
   "execution_count": 262,
   "metadata": {},
   "outputs": [
    {
     "output_type": "execute_result",
     "data": {
      "text/plain": "0       5\n1       5\n2       5\n3       6\n4       5\n       ..\n1594    5\n1595    6\n1596    6\n1597    5\n1598    6\nName: quality, Length: 1599, dtype: int64"
     },
     "metadata": {},
     "execution_count": 262
    }
   ],
   "source": [
    "red_wine.quality"
   ]
  },
  {
   "cell_type": "code",
   "execution_count": 263,
   "metadata": {
    "tags": []
   },
   "outputs": [
    {
     "output_type": "execute_result",
     "data": {
      "text/plain": "0       False\n1       False\n2       False\n3       False\n4       False\n        ...  \n1594    False\n1595    False\n1596    False\n1597    False\n1598    False\nName: quality, Length: 1599, dtype: bool"
     },
     "metadata": {},
     "execution_count": 263
    }
   ],
   "source": [
    "red_wine.quality > 6.5"
   ]
  },
  {
   "cell_type": "code",
   "execution_count": null,
   "metadata": {},
   "outputs": [],
   "source": []
  },
  {
   "cell_type": "code",
   "execution_count": 264,
   "metadata": {},
   "outputs": [],
   "source": [
    "q = 6.5\n",
    "if y.all() > q:\n",
    "    print('True')"
   ]
  },
  {
   "cell_type": "code",
   "execution_count": 265,
   "metadata": {},
   "outputs": [
    {
     "output_type": "execute_result",
     "data": {
      "text/plain": "array([5, 5, 5, ..., 6, 5, 6], dtype=int64)"
     },
     "metadata": {},
     "execution_count": 265
    }
   ],
   "source": [
    "y"
   ]
  },
  {
   "cell_type": "code",
   "execution_count": 266,
   "metadata": {},
   "outputs": [],
   "source": [
    "#choosing 10 random data information for sampling\n",
    "sample_wine = red_wine.sample(n=10, weights= 'quality', random_state=1, )"
   ]
  },
  {
   "cell_type": "code",
   "execution_count": 267,
   "metadata": {},
   "outputs": [
    {
     "output_type": "execute_result",
     "data": {
      "text/plain": "      volatile acidity  citric acid  residual sugar  chlorides  \\\n672              1.240         0.34             2.0      0.079   \n1147             0.410         0.45             6.2      0.071   \n0                0.700         0.00             1.9      0.076   \n489              0.390         0.40             2.6      0.073   \n247              0.600         0.17             2.3      0.072   \n157              0.430         0.42             5.5      0.071   \n310              0.530         0.48             2.5      0.063   \n555              0.645         0.49             4.2      0.095   \n638              0.915         0.12             2.2      0.143   \n874              0.380         0.46             2.1      0.104   \n\n      total sulfur dioxide  density    pH  sulphates  alcohol  quality  \n672                  151.0  0.99800  3.15       0.53      9.5        5  \n1147                  14.0  0.99702  3.21       0.49     11.8        7  \n0                     34.0  0.99780  3.51       0.56      9.4        5  \n489                   26.0  0.99840  3.34       0.75     10.2        6  \n247                   73.0  0.99630  3.20       0.45      9.3        5  \n157                  128.0  0.99730  3.42       0.71     10.5        5  \n310                   25.0  0.99980  3.12       0.59      9.3        6  \n555                   23.0  1.00315  2.92       0.74     11.1        5  \n638                   23.0  0.99640  3.35       0.65     10.2        7  \n874                   10.0  0.99664  3.12       0.65     11.8        7  ",
      "text/html": "<div>\n<style scoped>\n    .dataframe tbody tr th:only-of-type {\n        vertical-align: middle;\n    }\n\n    .dataframe tbody tr th {\n        vertical-align: top;\n    }\n\n    .dataframe thead th {\n        text-align: right;\n    }\n</style>\n<table border=\"1\" class=\"dataframe\">\n  <thead>\n    <tr style=\"text-align: right;\">\n      <th></th>\n      <th>volatile acidity</th>\n      <th>citric acid</th>\n      <th>residual sugar</th>\n      <th>chlorides</th>\n      <th>total sulfur dioxide</th>\n      <th>density</th>\n      <th>pH</th>\n      <th>sulphates</th>\n      <th>alcohol</th>\n      <th>quality</th>\n    </tr>\n  </thead>\n  <tbody>\n    <tr>\n      <th>672</th>\n      <td>1.240</td>\n      <td>0.34</td>\n      <td>2.0</td>\n      <td>0.079</td>\n      <td>151.0</td>\n      <td>0.99800</td>\n      <td>3.15</td>\n      <td>0.53</td>\n      <td>9.5</td>\n      <td>5</td>\n    </tr>\n    <tr>\n      <th>1147</th>\n      <td>0.410</td>\n      <td>0.45</td>\n      <td>6.2</td>\n      <td>0.071</td>\n      <td>14.0</td>\n      <td>0.99702</td>\n      <td>3.21</td>\n      <td>0.49</td>\n      <td>11.8</td>\n      <td>7</td>\n    </tr>\n    <tr>\n      <th>0</th>\n      <td>0.700</td>\n      <td>0.00</td>\n      <td>1.9</td>\n      <td>0.076</td>\n      <td>34.0</td>\n      <td>0.99780</td>\n      <td>3.51</td>\n      <td>0.56</td>\n      <td>9.4</td>\n      <td>5</td>\n    </tr>\n    <tr>\n      <th>489</th>\n      <td>0.390</td>\n      <td>0.40</td>\n      <td>2.6</td>\n      <td>0.073</td>\n      <td>26.0</td>\n      <td>0.99840</td>\n      <td>3.34</td>\n      <td>0.75</td>\n      <td>10.2</td>\n      <td>6</td>\n    </tr>\n    <tr>\n      <th>247</th>\n      <td>0.600</td>\n      <td>0.17</td>\n      <td>2.3</td>\n      <td>0.072</td>\n      <td>73.0</td>\n      <td>0.99630</td>\n      <td>3.20</td>\n      <td>0.45</td>\n      <td>9.3</td>\n      <td>5</td>\n    </tr>\n    <tr>\n      <th>157</th>\n      <td>0.430</td>\n      <td>0.42</td>\n      <td>5.5</td>\n      <td>0.071</td>\n      <td>128.0</td>\n      <td>0.99730</td>\n      <td>3.42</td>\n      <td>0.71</td>\n      <td>10.5</td>\n      <td>5</td>\n    </tr>\n    <tr>\n      <th>310</th>\n      <td>0.530</td>\n      <td>0.48</td>\n      <td>2.5</td>\n      <td>0.063</td>\n      <td>25.0</td>\n      <td>0.99980</td>\n      <td>3.12</td>\n      <td>0.59</td>\n      <td>9.3</td>\n      <td>6</td>\n    </tr>\n    <tr>\n      <th>555</th>\n      <td>0.645</td>\n      <td>0.49</td>\n      <td>4.2</td>\n      <td>0.095</td>\n      <td>23.0</td>\n      <td>1.00315</td>\n      <td>2.92</td>\n      <td>0.74</td>\n      <td>11.1</td>\n      <td>5</td>\n    </tr>\n    <tr>\n      <th>638</th>\n      <td>0.915</td>\n      <td>0.12</td>\n      <td>2.2</td>\n      <td>0.143</td>\n      <td>23.0</td>\n      <td>0.99640</td>\n      <td>3.35</td>\n      <td>0.65</td>\n      <td>10.2</td>\n      <td>7</td>\n    </tr>\n    <tr>\n      <th>874</th>\n      <td>0.380</td>\n      <td>0.46</td>\n      <td>2.1</td>\n      <td>0.104</td>\n      <td>10.0</td>\n      <td>0.99664</td>\n      <td>3.12</td>\n      <td>0.65</td>\n      <td>11.8</td>\n      <td>7</td>\n    </tr>\n  </tbody>\n</table>\n</div>"
     },
     "metadata": {},
     "execution_count": 267
    }
   ],
   "source": [
    "sample_wine"
   ]
  },
  {
   "cell_type": "code",
   "execution_count": 268,
   "metadata": {
    "tags": []
   },
   "outputs": [
    {
     "output_type": "execute_result",
     "data": {
      "text/plain": "672     False\n1147     True\n0       False\n489     False\n247     False\n157     False\n310     False\n555     False\n638      True\n874      True\nName: quality, dtype: bool"
     },
     "metadata": {},
     "execution_count": 268
    }
   ],
   "source": [
    "sample_wine.quality>6.5"
   ]
  },
  {
   "cell_type": "code",
   "execution_count": 269,
   "metadata": {},
   "outputs": [
    {
     "output_type": "execute_result",
     "data": {
      "text/plain": "volatile acidity         0.624000\ncitric acid              0.333000\nresidual sugar           3.150000\nchlorides                0.084700\ntotal sulfur dioxide    50.700000\ndensity                  0.998081\npH                       3.234000\nsulphates                0.612000\nalcohol                 10.310000\nquality                  5.800000\ndtype: float64"
     },
     "metadata": {},
     "execution_count": 269
    }
   ],
   "source": [
    "sample_wine.mean (axis=0)"
   ]
  },
  {
   "cell_type": "code",
   "execution_count": 270,
   "metadata": {},
   "outputs": [],
   "source": [
    "#entropy of 0.88\n",
    "#Gain(S, Attribute = volatile acidity. Average = 0.62)\n",
    "#Sabove - [1+, 3-] =0.81\n",
    "#Sbelow - [2+, 4-] =0.92\n",
    "#Gain(S, volatile acidity) = -0.004"
   ]
  },
  {
   "cell_type": "code",
   "execution_count": 271,
   "metadata": {},
   "outputs": [],
   "source": [
    "#entropy of 0.88\n",
    "#Gain(S, Attribute = citric acid. Average = 0.33)\n",
    "#Sabove - [2+, 5-] =0.86\n",
    "#Sbelow - [1+, 2-] =0.92\n",
    "#Gain(S, citric acid) = -0.002"
   ]
  },
  {
   "cell_type": "code",
   "execution_count": 272,
   "metadata": {},
   "outputs": [],
   "source": [
    "#Gain(S, Attribute = residual sugar. Average = 3.15)\n",
    "#Sabove - [1+, 2-] =0.92\n",
    "#Sbelow - [2+, 5-] =0.86\n",
    "#Gain(S, residual sugar) = -0.002"
   ]
  },
  {
   "cell_type": "code",
   "execution_count": 273,
   "metadata": {},
   "outputs": [],
   "source": [
    "#entropy of 0.88\n",
    "#Gain(S, Attribute = chlorides. Average = 0.08)\n",
    "#Sabove - [2+, 1-] =0.92\n",
    "#Sbelow - [1+, 6-] =0.59\n",
    "#Gain(S, chlorides) = -0.191"
   ]
  },
  {
   "cell_type": "code",
   "execution_count": 274,
   "metadata": {},
   "outputs": [],
   "source": [
    "#entropy of 0.88\n",
    "#Gain(S, Attribute = total sulfur dioxide . Average = 50.70)\n",
    "#Sabove - [0+, 3-] =0\n",
    "#Sbelow - [3+, 4-] =0.99\n",
    "#Gain(S, total sulfur dioxide ) = -0.187"
   ]
  },
  {
   "cell_type": "code",
   "execution_count": 275,
   "metadata": {},
   "outputs": [],
   "source": [
    "#entropy of 0.88\n",
    "#Gain(S, Attribute = density. Average = 0.998)\n",
    "#Sabove - [0+, 3-] =0\n",
    "#Sbelow - [3+, 4-] =0.99\n",
    "#Gain(S, density) = -0.187"
   ]
  },
  {
   "cell_type": "code",
   "execution_count": 276,
   "metadata": {},
   "outputs": [],
   "source": [
    "#entropy of 0.88\n",
    "#Gain(S, Attribute = pH . Average = 3.23)\n",
    "#Sabove - [1+, 3-] =0.81\n",
    "#Sbelow - [2+, 4-] =0.92\n",
    "#Gain(S, pH) = -0.004"
   ]
  },
  {
   "cell_type": "code",
   "execution_count": 277,
   "metadata": {},
   "outputs": [],
   "source": [
    "#entropy of 0.88\n",
    "#Gain(S, Attribute = sulphates . Average = 0.61)\n",
    "#Sabove - [2+, 3-] =0.97\n",
    "#Sbelow - [1+, 4-] =0.72\n",
    "#Gain(S, sulphates) = -0.035"
   ]
  },
  {
   "cell_type": "code",
   "execution_count": 278,
   "metadata": {},
   "outputs": [],
   "source": [
    "#entropy of 0.88\n",
    "#Gain(S, Attribute = alcohol . Average = 10.31)\n",
    "#Sabove - [2+, 2-] =1\n",
    "#Sbelow - [1+, 5-] =0.65\n",
    "#Gain(S, alcohol) = -0.090"
   ]
  },
  {
   "cell_type": "code",
   "execution_count": 279,
   "metadata": {},
   "outputs": [],
   "source": [
    "#using \"chlorides\" attribute for information gain"
   ]
  }
 ]
}